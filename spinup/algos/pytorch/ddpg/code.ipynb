{
 "cells": [
  {
   "cell_type": "code",
   "execution_count": 6,
   "metadata": {},
   "outputs": [],
   "source": [
    "import spinup\n",
    "import torch \n",
    "from gym.envs.registration import register\n",
    "\n",
    "register(\n",
    "    id='gym_cart_pole',\n",
    "    entry_point='gym.envs.classic_control.environment:ContinuousCarPoleEnv',\n",
    "    max_episode_steps=300,\n",
    ")\n",
    "\n",
    "\n",
    "def ddpg_cart_pole_runner():\n",
    "\n",
    "    seed_value = 0\n",
    "\n",
    "    actor_learning_rate = 0.0001\n",
    "    critic_learning_rate = 0.001\n",
    "\n",
    "    discount_factor = 0.99\n",
    "\n",
    "    env_fn = lambda: gym.make('gym_cart_pole')\n",
    "\n",
    "    ac_kwargs = dict(hidden_sizes=[400,300], activation=torch.nn.relu)\n",
    "\n",
    "    logger_kwargs = dict(output_dir='./outputs/', exp_name='experiment_name')\n",
    "\n",
    "    ddpg = spinup.ddpg_pytorch(env_fn,  seed=seed_value, steps_per_epoch=200, epochs=100, replay_size=1000000, gamma=discount_factor, polyak=0.995, pi_lr=actor_learning_rate, q_lr=critic_learning_rate, batch_size=100, start_steps=10000, update_after=1000, update_every=50, act_noise=0.1, num_test_episodes=10, max_ep_len=1000, save_freq=1, ac_kwargs=ac_kwargs,logger_kwargs=logger_kwargs )\n",
    "\n",
    "\n",
    "\n",
    "\n",
    "\n",
    "\n",
    "\n",
    "\n",
    "\n"
   ]
  }
 ],
 "metadata": {
  "kernelspec": {
   "display_name": "Python 3",
   "language": "python",
   "name": "python3"
  },
  "language_info": {
   "codemirror_mode": {
    "name": "ipython",
    "version": 3
   },
   "file_extension": ".py",
   "mimetype": "text/x-python",
   "name": "python",
   "nbconvert_exporter": "python",
   "pygments_lexer": "ipython3",
   "version": "3.9.13"
  },
  "orig_nbformat": 4
 },
 "nbformat": 4,
 "nbformat_minor": 2
}
